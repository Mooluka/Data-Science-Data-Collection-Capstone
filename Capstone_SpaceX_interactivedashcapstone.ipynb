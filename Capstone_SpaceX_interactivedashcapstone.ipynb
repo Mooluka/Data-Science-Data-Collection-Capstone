{
 "cells": [
  {
   "cell_type": "code",
   "execution_count": 1,
   "metadata": {},
   "outputs": [],
   "source": [
    "#Import required libraries\n",
    "import pandas as pd\n",
    "import dash\n",
    "import dash_html_components as html\n",
    "import dash_core_components as dcc\n",
    "from dash.dependencies import Input, Output\n",
    "import plotly.express as px\n",
    "from jupyter_dash import JupyterDash\n",
    "from dash import no_update"
   ]
  },
  {
   "cell_type": "code",
   "execution_count": 2,
   "metadata": {},
   "outputs": [
    {
     "name": "stdout",
     "output_type": "stream",
     "text": [
      "Dash app running on http://127.0.0.1:8050/\n"
     ]
    },
    {
     "name": "stderr",
     "output_type": "stream",
     "text": [
      "<ipython-input-2-e4982554a822>:76: UserWarning:\n",
      "\n",
      "Boolean Series key will be reindexed to match DataFrame index.\n",
      "\n"
     ]
    }
   ],
   "source": [
    "# #Import required libraries\n",
    "# import pandas as pd\n",
    "# import dash\n",
    "# import dash_html_components as html\n",
    "# import dash_core_components as dcc\n",
    "# from dash.dependencies import Input, Output\n",
    "# import plotly.express as px\n",
    "# from jupyter_dash import JupyterDash\n",
    "# from dash import no_update\n",
    "\n",
    "#Read the airline data into pandas dataframe\n",
    "spacex_df = pd.read_csv(\"spacex_launch_dash.csv\")\n",
    "max_payload = spacex_df['Payload Mass (kg)'].max()\n",
    "min_payload = spacex_df['Payload Mass (kg)'].min()\n",
    "\n",
    "#spacex_df['class']=spacex_df['class'].replace([0,1],[1,0])\n",
    "\n",
    "#Create a dash application\n",
    "app = JupyterDash(__name__)\n",
    "#JupyterDash.infer_jupyter_proxy_config()\n",
    "\n",
    "#Create an app layout\n",
    "app.layout = html.Div(children=[html.H1('SpaceX Launch Records Dashboard',style={'textAlign': 'center', 'color': '#503D36','font-size': 40}),\n",
    "                                # TASK 1: Add a dropdown list to enable Launch Site selection\n",
    "                                # The default select value is for ALL sites\n",
    "                                # dcc.Dropdown(id='site-dropdown',...)\n",
    "                                dcc.Dropdown(id='site_dropdown',\n",
    "                                             options=[\n",
    "                                                 {'label': 'All Sites', 'value': 'ALL'},\n",
    "                                                 {'label': 'CCAFS LC-40', 'value': 'CCAFS LC-40'},\n",
    "                                                 {'label': 'KSC LC-39A', 'value': 'KSC LC-39A'},\n",
    "                                                 {'label': 'VAFB SLC-4E', 'value': 'VAFB SLC-4E'},\n",
    "                                                 {'label': 'CCAFS SLC-40', 'value': 'CCAFS SLC-40'},\n",
    "                                             ],\n",
    "                                             value='ALL',\n",
    "                                             placeholder=\"Select a Launch Site here\",\n",
    "                                             searchable=True),\n",
    "                                html.Br(),\n",
    "                                # TASK 2: Add a pie chart to show the total successful launches count for all sites\n",
    "                                # If a specific launch site was selected, show the Success vs. Failed counts for the site\n",
    "                                html.Div(dcc.Graph(id='success-pie-chart')),\n",
    "                                html.Br(),\n",
    "\n",
    "                                html.P(\"Payload range (Kg):\"),\n",
    "                                # TASK 3: Add a slider to select payload range\n",
    "                                #dcc.RangeSlider(id='payload-slider',...)\n",
    "                                dcc.RangeSlider(id='payload_slider',min=0, max=10000, step=1,\n",
    "                                                marks={0: '0',2500: '2500',5000:'5000',7500:'7500',10000:'10000'},\n",
    "                                                value=[min_payload,max_payload]),\n",
    "                                # TASK 4: Add a scatter chart to show the correlation between payload and launch success\n",
    "                                html.Div(dcc.Graph(id='success_payload_scatter_chart')),\n",
    "                                ])\n",
    "# Function decorator to specify function input and output\n",
    "@app.callback(Output(component_id='success-pie-chart', component_property='figure'),Input(component_id='site_dropdown', component_property='value'))\n",
    "\n",
    "def get_graph(site_dropdown):\n",
    "    if site_dropdown == 'ALL':\n",
    "        fig = px.pie(spacex_df, values='class', names='Launch Site', title='success-pie-chart')\n",
    "        return fig\n",
    "    else:\n",
    "        # dataframe and pie_chart when site_dropdown is chosen\n",
    "        site_df=spacex_df.loc[spacex_df['Launch Site']==site_dropdown]\n",
    "        site_piechart = px.pie(site_df,names='class',title='Launchsite launch')\n",
    "        return site_piechart\n",
    "    \n",
    "@app.callback(Output(component_id='success_payload_scatter_chart', component_property='figure'),[Input(component_id='site_dropdown', component_property='value'),Input(component_id='payload_slider', component_property='value')])\n",
    "\n",
    "def update_graph(site_dropdown, payload_slider):\n",
    "    if site_dropdown == 'ALL':\n",
    "        filtered_data = spacex_df[(spacex_df['Payload Mass (kg)']>=payload_slider[0])&(spacex_df['Payload Mass (kg)']<=payload_slider[1])]\n",
    "        #fig2 = px.scatter(spacex_df, x=\"Payload Mass (kg)\", y=\"class\", color=\"Booster Version Category\")\n",
    "        scatterplot = px.scatter(filtered_data, x=\"Payload Mass (kg)\", y=\"class\", color=\"Booster Version Category\")\n",
    "        return scatterplot\n",
    "    else:\n",
    "        specific_df=spacex_df.loc[spacex_df['Launch Site'] == site_dropdown]\n",
    "        filtered_data = specific_df[(specific_df['Payload Mass (kg)']>=payload_slider[0])&(spacex_df['Payload Mass (kg)']<=payload_slider[1])]\n",
    "        scplot = px.scatter(filtered_data, x=\"Payload Mass (kg)\", y=\"class\",color=\"Booster Version Category\")\n",
    "        return scplot\n",
    "\n",
    "\n",
    "# Run the app\n",
    "if __name__ == '__main__':\n",
    "    app.run_server()\n"
   ]
  },
  {
   "cell_type": "code",
   "execution_count": null,
   "metadata": {},
   "outputs": [],
   "source": []
  },
  {
   "cell_type": "code",
   "execution_count": null,
   "metadata": {},
   "outputs": [],
   "source": []
  }
 ],
 "metadata": {
  "kernelspec": {
   "display_name": "Python 3",
   "language": "python",
   "name": "python3"
  },
  "language_info": {
   "codemirror_mode": {
    "name": "ipython",
    "version": 3
   },
   "file_extension": ".py",
   "mimetype": "text/x-python",
   "name": "python",
   "nbconvert_exporter": "python",
   "pygments_lexer": "ipython3",
   "version": "3.8.3"
  }
 },
 "nbformat": 4,
 "nbformat_minor": 4
}
